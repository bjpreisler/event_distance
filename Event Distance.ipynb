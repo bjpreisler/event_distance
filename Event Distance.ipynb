{
 "cells": [
  {
   "cell_type": "markdown",
   "metadata": {},
   "source": [
    "## FOCUS Student Event Distance Project\n",
    "### February 2017  \n",
    "\n",
    "This script follows these consequential steps:  \n",
    "1. Import a csv of students' cities (we're currently using capitals to simplify, but geo center or population center of states could be used\n",
    "2. Build a dictionary containing state, student city, lat, lon, and distance to target city\n",
    "3. Produce total mileage from students' cities to target city\n"
   ]
  },
  {
   "cell_type": "code",
   "execution_count": 36,
   "metadata": {
    "collapsed": false
   },
   "outputs": [
    {
     "name": "stdout",
     "output_type": "stream",
     "text": [
      "{'Mississippi': ['Jackson', 32.4104385, -90.162064888255, 667.0], 'Oklahoma': ['Oklahoma City', 35.4729886, -97.5170535, 692.0], 'Wyoming': ['Cheyenne', 38.040803, -121.3366569, 1797.0], 'Minnesota': ['Saint Paul', 44.9504037, -93.1015025, 348.0], 'Illinois': ['Springfield', 39.7989763, -89.6443687, 178.0], 'Georgia': ['Atlanta', 33.7490987, -84.3901848, 587.0], 'Arkansas': ['Little Rock', 34.7464809, -92.2895947, 553.0], 'New Mexico': ['Santa Fe', 35.6869996, -105.9377996, 1074.0], 'Ohio': ['Columbus', 39.9622601, -83.0007064, 276.0], 'Indiana': ['Indianapolis', 39.7683331, -86.1583501, 164.0], 'Maryland': ['Annapolis', 38.9786401, -76.4927859, 620.0], 'Louisiana': ['Baton Rouge', 30.4507462, -91.1545509, 811.0], 'Idaho': ['Boise', 43.61656, -116.2008349, 1451.0], 'Arizona': ['Phoenix', 33.4485866, -112.0773455, 1454.0], 'Iowa': ['Des Moines', 41.5910641, -93.6037148, 309.0], 'New York': ['Albany', 42.6511674, -73.7549679, 713.0], 'Michigan': ['Lansing', 42.7337712, -84.5553804, 168.0], 'Kansas': ['Topeka', 39.0490111, -95.6775556, 466.0], 'Utah': ['Salt Lake City', 40.7670126, -111.8904307, 1260.0], 'Virginia': ['Richmond', 37.5385087, -77.4342799, 620.0], 'Oregon': ['Salem', 44.9391565, -123.0331209, 1780.0], 'Connecticut': ['Hartford', 41.7634935, -72.6830522, 771.0], 'Montana': ['Helena', 46.5927122, -112.0361089, 1249.0], 'California': ['Sacramento', 38.5815719, -121.4943995, 1794.0], 'Massachusetts': ['Boston', 42.3604823, -71.0595677, 851.0], 'West Virginia': ['Charleston', 38.3505993, -81.633281, 400.0], 'South Carolina': ['Columbia', 34.0007493, -81.0343312, 651.0], 'New Hampshire': ['Concord', 43.207106, -71.5370215, 825.0], 'Vermont': ['Montpelier', 44.260015, -72.5753598, 778.0], 'Delaware': ['Dover', 39.158168, -75.5243679, 664.0], 'North Dakota': ['Bismarck', 46.8083268, -100.7837391, 734.0], 'Pennsylvania': ['Harrisburg', 40.2663107, -76.8861121, 572.0], 'Florida': ['Tallahassee', 30.4380832, -84.2809331, 810.0], 'Alaska': ['Juneau', 58.3019496, -134.4197339, 2306.0], 'Kentucky': ['Frankfort', 38.2009055, -84.8732835, 292.0], 'Hawaii': ['Honolulu', 21.304547, -157.8556763, 4255.0], 'Nebraska': ['Lincoln', 40.8, -96.6678209, 476.0], 'Missouri': ['Jefferson City', 38.577359, -92.1724264, 331.0], 'Wisconsin': ['Madison', 43.074761, -89.3837612, 122.0], 'Alabama': ['Montgomery', 32.3669656, -86.3006484, 659.0], 'Rhode Island': ['Providence', 41.8239891, -71.4128342, 836.0], 'South Dakota': ['Pierre', 44.3683045, -100.3511847, 665.0], 'Colorado': ['Denver', 39.7391536, -104.9847033, 920.0], 'New Jersey': ['Trenton', 40.217058, -74.7429459, 682.0], 'Washington': ['Olympia', 47.0450197, -122.8948724, 1764.0], 'North Carolina': ['Raleigh', 35.7803977, -78.6390988, 641.0], 'Tennessee': ['Nashville', 36.1622296, -86.774353, 396.0], 'Texas': ['Austin', 30.2711286, -97.7436994, 978.0], 'Nevada': ['Carson City', 39.1637984, -119.7674033, 1693.0], 'Maine': ['Augusta', 44.310517, -69.7792601, 917.0]}\n"
     ]
    }
   ],
   "source": [
    "from geopy.geocoders import Nominatim\n",
    "import numpy as np\n",
    "import pandas as pd\n",
    "import numpy as np\n",
    "from geopy.distance import vincenty\n",
    "import matplotlib.pyplot as plt\n",
    "import us\n",
    "\n",
    "#import CSV as pandas dataframe\n",
    "statecaps= pd.read_csv('C:\\\\Users\\\\brian.preisler\\\\downloads\\\\statecaps.csv')\n",
    "\n",
    "chicago_loc = (41.871, -87.63)\n",
    "scd = {}\n",
    "scd = statecaps.set_index('State')['Capital'].to_dict()\n",
    "chicago = {}\n",
    "\n",
    "\n",
    "\n",
    "geolocator = Nominatim()\n",
    "\n",
    "for i in scd:\n",
    "    statecity = scd[i] +\" \" + i\n",
    "    geo = geolocator.geocode(statecity)\n",
    "    attrib = []\n",
    "    attrib.append(scd[i])\n",
    "    attrib.append(geo.latitude)\n",
    "    attrib.append(geo.longitude)\n",
    "    miles = round(vincenty(chicago_loc,(geo.latitude, geo.longitude)).miles,0)\n",
    "    attrib.append(miles)\n",
    "    chicago[i] = attrib"
   ]
  },
  {
   "cell_type": "markdown",
   "metadata": {},
   "source": [
    "### Import student's survey data"
   ]
  },
  {
   "cell_type": "code",
   "execution_count": 28,
   "metadata": {
    "collapsed": false
   },
   "outputs": [
    {
     "name": "stdout",
     "output_type": "stream",
     "text": [
      "     Name         State\n",
      "0   Brian     Wisconsin\n",
      "1  Joseph      Colorado\n",
      "2  Tyler   North Dakota\n"
     ]
    }
   ],
   "source": [
    "test_students= pd.read_csv('C:\\\\Users\\\\brian.preisler\\\\downloads\\\\test_students.csv')\n",
    "print test_students.head()"
   ]
  },
  {
   "cell_type": "markdown",
   "metadata": {},
   "source": [
    "### Produce the total for distance to target city"
   ]
  },
  {
   "cell_type": "code",
   "execution_count": 47,
   "metadata": {
    "collapsed": false
   },
   "outputs": [
    {
     "name": "stdout",
     "output_type": "stream",
     "text": [
      "1776.0\n"
     ]
    }
   ],
   "source": [
    "total = 0\n",
    "for i in ts:\n",
    "    miles = chicago[ts[i]][3]\n",
    "    total += miles\n",
    "\n",
    "print total"
   ]
  }
 ],
 "metadata": {
  "anaconda-cloud": {},
  "kernelspec": {
   "display_name": "Python [default]",
   "language": "python",
   "name": "python2"
  },
  "language_info": {
   "codemirror_mode": {
    "name": "ipython",
    "version": 2
   },
   "file_extension": ".py",
   "mimetype": "text/x-python",
   "name": "python",
   "nbconvert_exporter": "python",
   "pygments_lexer": "ipython2",
   "version": "2.7.12"
  }
 },
 "nbformat": 4,
 "nbformat_minor": 1
}
